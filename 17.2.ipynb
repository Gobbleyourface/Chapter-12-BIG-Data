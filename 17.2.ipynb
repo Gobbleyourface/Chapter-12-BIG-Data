{
 "cells": [
  {
   "cell_type": "markdown",
   "metadata": {},
   "source": [
    "Jiawei Chen\n",
    "This Program uses the new description, fetchall, and execute methods to display title's data in a tabular format"
   ]
  },
  {
   "cell_type": "code",
   "execution_count": 1,
   "metadata": {},
   "outputs": [],
   "source": [
    "# connects with the databse\n",
    "import sqlite3\n",
    "import pandas as pd\n",
    "connection = sqlite3.connect('books.db')"
   ]
  },
  {
   "cell_type": "code",
   "execution_count": 9,
   "metadata": {},
   "outputs": [
    {
     "name": "stdout",
     "output_type": "stream",
     "text": [
      "         Isbn                             Title  Edition Copyright\n",
      "0  0135404673     Intro to Python for CS and DS        1      2020\n",
      "1  0132151006     Internet & WWW How to Program        5      2012\n",
      "2  0134743350               Java How to Program       11      2018\n",
      "3  0133976890                  C How to Program        8      2016\n",
      "4  0133406954  Visual Basic 2012 How to Program        6      2014\n",
      "5  0134601548          Visual C# How to Program        6      2017\n",
      "6  0136151574         Visual C++ How to Program        2      2008\n",
      "7  0134448235                C++ How to Program       10      2017\n",
      "8  0134444302            Android How to Program        3      2017\n",
      "9  0134289366         Android 6 for Programmers        3      2016\n"
     ]
    }
   ],
   "source": [
    "# Create a cursor\n",
    "cursor = connection.cursor()\n",
    "# Execute a query to select all data from the titles table\n",
    "cursor.execute(\"SELECT * FROM titles\")\n",
    "# Get the metadata from the description attribute\n",
    "description = cursor.description\n",
    "# Get the data from the fetchall method\n",
    "data = cursor.fetchall()\n",
    "# Print the results in a tabular format\n",
    "df = pd.DataFrame(data, columns=['Isbn', 'Title', 'Edition', 'Copyright'])\n",
    "print(df)\n"
   ]
  }
 ],
 "metadata": {
  "kernelspec": {
   "display_name": "Python 3",
   "language": "python",
   "name": "python3"
  },
  "language_info": {
   "codemirror_mode": {
    "name": "ipython",
    "version": 3
   },
   "file_extension": ".py",
   "mimetype": "text/x-python",
   "name": "python",
   "nbconvert_exporter": "python",
   "pygments_lexer": "ipython3",
   "version": "3.11.4"
  }
 },
 "nbformat": 4,
 "nbformat_minor": 2
}
